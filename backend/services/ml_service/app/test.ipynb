{
 "cells": [
  {
   "cell_type": "code",
   "execution_count": 2,
   "metadata": {},
   "outputs": [
    {
     "name": "stdout",
     "output_type": "stream",
     "text": [
      "Listening for messages...\n"
     ]
    },
    {
     "name": "stderr",
     "output_type": "stream",
     "text": [
      "%6|1732999938.680|GETSUBSCRIPTIONS|rdkafka#consumer-2| [thrd:main]: Telemetry client instance id changed from AAAAAAAAAAAAAAAAAAAAAA to cBakN3ezR0qapPWq+epVBQ\n"
     ]
    },
    {
     "name": "stdout",
     "output_type": "stream",
     "text": [
      "Topic: emails-topic-new, Key: 19370a7793c88c3f, Value: {\"id\": \"19370a7793c88c3f\", \"snippet\": \"Google Auth Library was granted access to your Google Account dazzlingdatadude@gmail.com If you did not grant access, you should check this activity and secure your account. Check activity You can also\", \"from\": \"Google <no-reply@accounts.google.com>\", \"subject\": \"Security alert\", \"date\": \"Thu, 28 Nov 2024 02:44:03 GMT\", \"body\": \"[image: Google]\\r\\nGoogle Auth Library was granted access to your Google Account\\r\\n\\r\\n\\r\\ndazzlingdatadude@gmail.com\\r\\n\\r\\nIf you did not grant access, you should check this activity and secure your\\r\\naccount.\\r\\nCheck activity\\r\\n<https://accounts.google.com/AccountChooser?Email=dazzlingdatadude@gmail.com&continue=https://myaccount.google.com/alert/nt/1732761843000?rfn%3D127%26rfnc%3D1%26eid%3D6779920641483252125%26et%3D0>\\r\\nYou can also see security activity at\\r\\nhttps://myaccount.google.com/notifications\\r\\nYou received this email to let you know about important changes to your\\r\\nGoogle Account and services.\\r\\n\\u00a9 2024 Google LLC, 1600 Amphitheatre Parkway, Mountain View, CA 94043, USA\\r\\n\"}\n",
      "Topic: emails-topic-new, Key: 1935038b605c88d3, Value: {\"id\": \"1935038b605c88d3\", \"snippet\": \"LIMITED TIME ONLY! Get 10% off the ultimate plan for creators \\u034f \\u200c \\ufeff \\u034f \\u200c \\ufeff \\u034f \\u200c \\ufeff \\u034f \\u200c \\ufeff \\u034f \\u200c \\ufeff \\u034f \\u200c \\ufeff \\u034f \\u200c \\ufeff \\u034f \\u200c \\ufeff \\u034f \\u200c \\ufeff \\u034f \\u200c \\ufeff \\u034f \\u200c \\ufeff \\u034f \\u200c \\ufeff \\u034f \\u200c \\ufeff \\u034f \\u200c \\ufeff \\u034f \\u200c \\ufeff \\u034f \\u200c \\ufeff \\u034f \\u200c \\ufeff \\u034f \\u200c \\ufeff \\u034f \\u200c \\ufeff \\u034f \\u200c \\ufeff \\u034f \\u200c \\ufeff \\u034f \\u200c \\ufeff \\u034f \\u200c \\ufeff \\u034f\", \"from\": \"Motion Array <Team@newsletter.motionarray.com>\", \"subject\": \"Avdhoot, act fast! Save 10% on the Everything plan before it\\u2019s too late\", \"date\": \"Thu, 21 Nov 2024 19:28:23 +0000\", \"body\": \"LIMITED TIME ONLY! Get 10% off the ultimate plan for creators\\r\\n\\r\\n( http://clicks.artlist.io/f/a/Gu6Q8bey26m9K8Z1QhNXCw~~/AAAHagA~/RgRpIg7XP0R-aHR0cHM6Ly9tb3Rpb25hcnJheS5jb20vcHJpY2luZy8_dXRtX3NvdXJjZT1NQV9OZXdzbGV0dGVyX2Z0JnV0bV9tZWRpdW09aG9saWRheV9zYWxlXzIxMTEyNCZ1dG1fY2FtcGFpZ249TWFpbiZsaWQ9bWFuZDgwb3FkbzN4VwVzcGNldUIKZzzXiT9n6CVPwVIaZGF6emxpbmdkYXRhZHVkZUBnbWFpbC5jb21YBAAAAb0~ )\\r\\n   \\r\\n( http://clicks.artlist.io/f/a/OY6yH-NmnW7JtGbirjis6A~~/AAAHagA~/RgRpIg7XP0R-aHR0cHM6Ly9tb3Rpb25hcnJheS5jb20vcHJpY2luZy8_dXRtX3NvdXJjZT1NQV9OZXdzbGV0dGVyX2Z0JnV0bV9tZWRpdW09aG9saWRheV9zYWxlXzIxMTEyNCZ1dG1fY2FtcGFpZ249TWFpbiZsaWQ9czd6bGFtYm15ZHk2VwVzcGNldUIKZzzXiT9n6CVPwVIaZGF6emxpbmdkYXRhZHVkZUBnbWFpbC5jb21YBAAAAb0~ )\\r\\n  ( http://clicks.artlist.io/f/a/W83m4NylCg34x1G7wm0V5w~~/AAAHagA~/RgRpIg7XP0QxaHR0cHM6Ly9tb3Rpb25hcnJheS5jb20vcHJpY2luZy8_bGlkPThscTYxOXZ0aW5nc1cFc3BjZXVCCmc814k_Z-glT8FSGmRhenpsaW5nZGF0YWR1ZGVAZ21haWwuY29tWAQAAAG9 )  \\r\\n( http://clicks.artlist.io/f/a/F0vHVk9NA60tXS9OcAveSw~~/AAAHagA~/RgRpIg7XP0QxaHR0cHM6Ly9tb3Rpb25hcnJheS5jb20vcHJpY2luZy8_bGlkPWlwMGNjemV5cTd2cVcFc3BjZXVCCmc814k_Z-glT8FSGmRhenpsaW5nZGF0YWR1ZGVAZ21haWwuY29tWAQAAAG9 )     \\r\\n( http://clicks.artlist.io/f/a/OAKUyjo6dSPs9hfWQ_zVfA~~/AAAHagA~/RgRpIg7XP0Q4aHR0cHM6Ly93d3cueW91dHViZS5jb20vY2hhbm5lbC9VQ1F5b0tmVUx0SmFIcVN4QjgwRWZ3NHdXBXNwY2V1QgpnPNeJP2foJU_BUhpkYXp6bGluZ2RhdGFkdWRlQGdtYWlsLmNvbVgEAAABvQ~~ )  \\r\\n( http://clicks.artlist.io/f/a/EjwitYzSPpI6tKktpWF_sg~~/AAAHagA~/RgRpIg7XP0QmaHR0cHM6Ly93d3cuaW5zdGFncmFtLmNvbS9tb3Rpb25hcnJheS9XBXNwY2V1QgpnPNeJP2foJU_BUhpkYXp6bGluZ2RhdGFkdWRlQGdtYWlsLmNvbVgEAAABvQ~~ )  \\r\\n( http://clicks.artlist.io/f/a/vfklXUkH4WewMVt7-tTxkw~~/AAAHagA~/RgRpIg7XP0QfaHR0cHM6Ly90aWt0b2suY29tL0Btb3Rpb25hcnJheVcFc3BjZXVCCmc814k_Z-glT8FSGmRhenpsaW5nZGF0YWR1ZGVAZ21haWwuY29tWAQAAAG9 )  \\r\\n( http://clicks.artlist.io/f/a/LjZmA_75CEQNXHkapWL7dg~~/AAAHagA~/RgRpIg7XP0QkaHR0cHM6Ly93d3cuZmFjZWJvb2suY29tL21vdGlvbmFycmF5VwVzcGNldUIKZzzXiT9n6CVPwVIaZGF6emxpbmdkYXRhZHVkZUBnbWFpbC5jb21YBAAAAb0~ )  \\r\\n( http://clicks.artlist.io/f/a/IhmN-1sPwk5K0_9iFjGD1g~~/AAAHagA~/RgRpIg7XP0QfaHR0cHM6Ly90d2l0dGVyLmNvbS9Nb3Rpb25BcnJheVcFc3BjZXVCCmc814k_Z-glT8FSGmRhenpsaW5nZGF0YWR1ZGVAZ21haWwuY29tWAQAAAG9 )  This email was sent by Motion\\r\\nArray. Unsubscribe ( http://clicks.artlist.io/f/a/itVsCxfHLUPXIagDWPUuxA~~/AAAHagA~/RgRpIg7XP4TLAWh0dHBzOi8vMDEuZW1haWxpbmJvdW5kcHJvY2Vzc2luZy5ldS9lbmNfdXNlci91bnN1YnNjcmliZT9kPSUyNDElMjRpaDZxdnZaOTNDbEJlMkhFbXg4WWhBJTNEJTNEJTI0RTVBeFdKVHI3ckh0emRBaUwyd1BwM3BOb3NCdTRVdUVmdHVHclhKTVc2NzhNdGRXSGs4enNTcUZaYWhRJTBBVnlTeDFRVWdjZSUyRmJTRHluSE9zaGpDZ2xvZDYlMkJyWUwzMWhKQTNMeVBrajVuT2MlMkZYMXZqMWw3VXV4QiUyQnAlMEFvdElSMW44dG1pRWdVVTllOXFJdkRqVGk2RmZPTWpNZmxYJTJGVmxlbCUyQnpjdGRxWnNBQ2hEZDA4MjJ1SW9yJTBBeUtGbzBJJTJCTmYlMkY5QWpEYjlFZWFzTkczMVk1VHJTSEhiMjNDMlJUMnlRREdWYlNBcFhRM2xnb2hWRFExSiUwQXNKdmhRejZQZktsdEY4dFAzVHgxaG9jSHRYdzglMkJYUmh5eGcxNjhaeDBUNlBwYWJvWCUyRmVmZlJkYmk2RE8lMEE4Qld5RWZFbHYwbWVpUUVlUm0lMkZKJjE9MVcFc3BjZXVCCmc814k_Z-glT8FSGmRhenpsaW5nZGF0YWR1ZGVAZ21haWwuY29tWAQAAAG9 ) Blog \\r\\n( http://clicks.artlist.io/f/a/2tI10vurY4psPfCPgrO70w~~/AAAHagA~/RgRpIg7XP0QeaHR0cHM6Ly9tb3Rpb25hcnJheS5jb20vbGVhcm4vVwVzcGNldUIKZzzXiT9n6CVPwVIaZGF6emxpbmdkYXRhZHVkZUBnbWFpbC5jb21YBAAAAb0~ ) Help Center \\r\\n( http://clicks.artlist.io/f/a/dqCHdNyx9eB22iVIViKP4A~~/AAAHagA~/RgRpIg7XP0QdaHR0cHM6Ly9oZWxwLm1vdGlvbmFycmF5LmNvbS9XBXNwY2V1QgpnPNeJP2foJU_BUhpkYXp6bGluZ2RhdGFkdWRlQGdtYWlsLmNvbVgEAAABvQ~~ )\"}\n",
      "Topic: emails-topic-new, Key: 19374ece25e805f2, Value: {\"id\": \"19374ece25e805f2\", \"snippet\": \"test body\", \"from\": \"Avdhoot Patil <dazzlingdatadude@gmail.com>\", \"subject\": \"test email to see if loading works\", \"date\": \"Thu, 28 Nov 2024 17:38:21 -0500\", \"body\": \"test body\\r\\n\"}\n",
      "Topic: emails-topic-new, Key: 1936f03de1123723, Value: {\"id\": \"1936f03de1123723\", \"snippet\": \"For the first time, get an entire commercial as a template and make it your own \\u034f \\u200c \\ufeff \\u034f \\u200c \\ufeff \\u034f \\u200c \\ufeff \\u034f \\u200c \\ufeff \\u034f \\u200c \\ufeff \\u034f \\u200c \\ufeff \\u034f \\u200c \\ufeff \\u034f \\u200c \\ufeff \\u034f \\u200c \\ufeff \\u034f \\u200c \\ufeff \\u034f \\u200c \\ufeff \\u034f \\u200c \\ufeff \\u034f \\u200c \\ufeff \\u034f \\u200c \\ufeff \\u034f \\u200c \\ufeff \\u034f \\u200c \\ufeff \\u034f \\u200c \\ufeff \\u034f \\u200c \\ufeff \\u034f \\u200c \\ufeff \\u034f \\u200c \\ufeff \\u034f\", \"from\": \"Motion Array <Team@newsletter.motionarray.com>\", \"subject\": \"Avdhoot, get the exclusive PES Motion Studio template for your projects\", \"date\": \"Wed, 27 Nov 2024 19:03:51 +0000\", \"body\": \"For the first time, get an entire commercial as a template and\\r\\nmake it your own    \\r\\n( http://clicks.artlist.io/f/a/qnyu0--Nm0zE5c2hQINk6Q~~/AAAHagA~/RgRpKfIXP0R9aHR0cHM6Ly9tb3Rpb25hcnJheS5jb20vcHJpY2luZy8_dXRtX3NvdXJjZT1NQV9OZXdzbGV0dGVyX2Z0X2FsbCZ1dG1fbWVkaXVtPWhvbGlkYXlfMjcxMTI0JnV0bV9jYW1wYWlnbj1NYWluJmxpZD14ZHdyNjlsdGJocGZXBXNwY2V1QgpnRBdtR2e8OxA8UhpkYXp6bGluZ2RhdGFkdWRlQGdtYWlsLmNvbVgEAAABvQ~~ )\\r\\n   \\r\\n( http://clicks.artlist.io/f/a/NBMJcVC0FA_GRR-VYiJynQ~~/AAAHagA~/RgRpKfIXP0SpaHR0cHM6Ly9tb3Rpb25hcnJheS5jb20vYWZ0ZXItZWZmZWN0cy10ZW1wbGF0ZXMvZXBpYy1zYWxlLTI5OTgwMzYvP3V0bV9zb3VyY2U9TUFfTmV3c2xldHRlcl9mdF9hbGwmdXRtX21lZGl1bT1wZXNfbW90aW9uX3N0dWRpb18yNzExMjQmdXRtX2NhbXBhaWduPU1haW4mbGlkPXF2Zm9iOHoxdnc4dlcFc3BjZXVCCmdEF21HZ7w7EDxSGmRhenpsaW5nZGF0YWR1ZGVAZ21haWwuY29tWAQAAAG9 )\\r\\n  \\r\\n( http://clicks.artlist.io/f/a/xx1Rp7EMfRjdqA-sS4S_Ow~~/AAAHagA~/RgRpKfIXP0SpaHR0cHM6Ly9tb3Rpb25hcnJheS5jb20vYWZ0ZXItZWZmZWN0cy10ZW1wbGF0ZXMvZXBpYy1zYWxlLTI5OTgwMzYvP3V0bV9zb3VyY2U9TUFfTmV3c2xldHRlcl9mdF9hbGwmdXRtX21lZGl1bT1wZXNfbW90aW9uX3N0dWRpb18yNzExMjQmdXRtX2NhbXBhaWduPU1haW4mbGlkPW50bnQwb2ZsbWgwdVcFc3BjZXVCCmdEF21HZ7w7EDxSGmRhenpsaW5nZGF0YWR1ZGVAZ21haWwuY29tWAQAAAG9 )\\r\\n  \\r\\n( http://clicks.artlist.io/f/a/BSWzES0N8Rqab_jr-ZyvVw~~/AAAHagA~/RgRpKfIXP0SpaHR0cHM6Ly9tb3Rpb25hcnJheS5jb20vYWZ0ZXItZWZmZWN0cy10ZW1wbGF0ZXMvZXBpYy1zYWxlLTI5OTgwMzYvP3V0bV9zb3VyY2U9TUFfTmV3c2xldHRlcl9mdF9hbGwmdXRtX21lZGl1bT1wZXNfbW90aW9uX3N0dWRpb18yNzExMjQmdXRtX2NhbXBhaWduPU1haW4mbGlkPWwwaXE1MXphZHdsc1cFc3BjZXVCCmdEF21HZ7w7EDxSGmRhenpsaW5nZGF0YWR1ZGVAZ21haWwuY29tWAQAAAG9 )\\r\\n     ( http://clicks.artlist.io/f/a/e3zVh4tlMPaek8lbPR0U1w~~/AAAHagA~/RgRpKfIXP0Q4aHR0cHM6Ly93d3cueW91dHViZS5jb20vY2hhbm5lbC9VQ1F5b0tmVUx0SmFIcVN4QjgwRWZ3NHdXBXNwY2V1QgpnRBdtR2e8OxA8UhpkYXp6bGluZ2RhdGFkdWRlQGdtYWlsLmNvbVgEAAABvQ~~ )   ( http://clicks.artlist.io/f/a/7krtkebetIyNHoAXn2R8ng~~/AAAHagA~/RgRpKfIXP0QmaHR0cHM6Ly93d3cuaW5zdGFncmFtLmNvbS9tb3Rpb25hcnJheS9XBXNwY2V1QgpnRBdtR2e8OxA8UhpkYXp6bGluZ2RhdGFkdWRlQGdtYWlsLmNvbVgEAAABvQ~~ )  \\r\\n( http://clicks.artlist.io/f/a/oj2ROXDXd74ecHf9Z9Bj4A~~/AAAHagA~/RgRpKfIXP0QfaHR0cHM6Ly90aWt0b2suY29tL0Btb3Rpb25hcnJheVcFc3BjZXVCCmdEF21HZ7w7EDxSGmRhenpsaW5nZGF0YWR1ZGVAZ21haWwuY29tWAQAAAG9 )  \\r\\n( http://clicks.artlist.io/f/a/C2Ppk-Gz542EhrQv5Qkgqw~~/AAAHagA~/RgRpKfIXP0QkaHR0cHM6Ly93d3cuZmFjZWJvb2suY29tL21vdGlvbmFycmF5VwVzcGNldUIKZ0QXbUdnvDsQPFIaZGF6emxpbmdkYXRhZHVkZUBnbWFpbC5jb21YBAAAAb0~ )  \\r\\n( http://clicks.artlist.io/f/a/E6QxFIWxrlrxP-Jubk5DyA~~/AAAHagA~/RgRpKfIXP0QfaHR0cHM6Ly90d2l0dGVyLmNvbS9Nb3Rpb25BcnJheVcFc3BjZXVCCmdEF21HZ7w7EDxSGmRhenpsaW5nZGF0YWR1ZGVAZ21haWwuY29tWAQAAAG9 )  This email was sent by Motion\\r\\nArray. Unsubscribe ( http://clicks.artlist.io/f/a/uPqSmTxrhlmUrFTDT27Hyg~~/AAAHagA~/RgRpKfIXP4THAWh0dHBzOi8vMDEuZW1haWxpbmJvdW5kcHJvY2Vzc2luZy5ldS9lbmNfdXNlci91bnN1YnNjcmliZT9kPSUyNDElMjRxUnp1MnVSQSUyQnZsOXAlMkZhVlcyeSUyQkR3JTNEJTNEJTI0TTk1OU9Yb3hWOEZBY1hUblJMY1hoS2NGJTJGZ3lCUkVaJTJGNTRoNkVRUWNqbzdrcGNKRFNUT29MakxUdjEwYiUwQUNBc0tpbkJSb3FXa3Y1U05mTW00b0lQZyUyQnhDVXExb0VMaVllOFEyZTV2eDhYOXppWFhQWWpvNVZPbWJjJTBBaGhZWEtQQWJNclZtZ3JaJTJCc1laZmQ2d1NxaWJsNkQyMlFmbWVNalpyNGhpQjdBQVRSNUxiMjBGakU3MVclMEE2VEhCdFQ0ZFlxSmgyb3J6b3RHQkdHcTBvUFF3aUtoVU0wMDJGbldTUVB3a1Qxb1lSQXJzWnB3bUR3c3klMEFuUk5taHhFQURTYUtmZ3VuMVE4TXRoakE2ZWlsV0RyZll3bnNKUExQZVBhT0ZmQ2dwJTJGbldzJTJCQmJBSkFZJTBBR2FGMkZRMmxzUFlvMXpIUDdtUWMmMT0xVwVzcGNldUIKZ0QXbUdnvDsQPFIaZGF6emxpbmdkYXRhZHVkZUBnbWFpbC5jb21YBAAAAb0~ ) Blog \\r\\n( http://clicks.artlist.io/f/a/9IZiikfnj2aFg3UHZ1kBVg~~/AAAHagA~/RgRpKfIXP0QeaHR0cHM6Ly9tb3Rpb25hcnJheS5jb20vbGVhcm4vVwVzcGNldUIKZ0QXbUdnvDsQPFIaZGF6emxpbmdkYXRhZHVkZUBnbWFpbC5jb21YBAAAAb0~ ) Help Center \\r\\n( http://clicks.artlist.io/f/a/okc7TPRp_glDGwDLizkk5Q~~/AAAHagA~/RgRpKfIXP0QdaHR0cHM6Ly9oZWxwLm1vdGlvbmFycmF5LmNvbS9XBXNwY2V1QgpnRBdtR2e8OxA8UhpkYXp6bGluZ2RhdGFkdWRlQGdtYWlsLmNvbVgEAAABvQ~~ )\"}\n",
      "Topic: emails-topic-new, Key: 1933fd580012f09c, Value: {\"id\": \"1933fd580012f09c\", \"snippet\": \"Hello, A few days ago, we invited you to take part in our survey about developer experience with Google Cloud. We would love to hear from you about what services you are using, whether you are\", \"from\": \"Google Cloud <Cloud-noreply@google.com>\", \"subject\": \"Last chance: Help us improve the developer experience with Google Cloud!\", \"date\": \"Mon, 18 Nov 2024 07:12:56 -0800\", \"body\": \"\\r\\nFrom: \\\"Google Cloud\\\"<Cloud-noreply@google.com>\\r\\nSubject: Last chance: Help us improve the developer experience with Google  \\r\\nCloud!\\r\\n\\r\\n\\r\\n\\r\\n\\u2007\\u2007\\u2007\\u2007\\u2007\\u2007\\u2007\\u2007\\u2007\\u2007\\u2007\\u2007\\u2007\\u2007\\u2007\\u2007\\u2007\\u2007\\u2007\\u2007\\u2007\\u2007\\u2007\\u2007\\u2007\\u2007\\u2007\\u2007\\u2007\\u2007\\u2007\\u2007\\u2007\\u2007\\u2007\\u2007\\u2007\\u2007\\u2007\\u2007\\u2007\\u2007\\u2007\\u2007\\u2007\\u2007\\u2007\\u2007\\u2007\\u2007 \\u2007\\u200d\\u034f \\u2007\\u034f \\u2007\\u200d\\u034f \\u2007\\u034f \\u2007\\u200d\\u034f \\u2007\\u034f \\u2007\\u200d\\u034f \\u2007\\u034f \\u2007\\u200d\\u034f \\u2007\\u034f \\u2007\\u200d\\u034f \\u2007\\u034f \\u2007\\u200d\\u034f \\u2007\\u034f \\u2007\\u200d\\u034f \\u2007\\u034f \\u2007\\u200d\\u034f \\u2007\\u034f \\u2007\\u200d\\u034f \\u2007\\u034f \\u2007\\u200d\\u034f \\u2007\\u034f \\u2007\\u200d\\u034f \\u2007\\u034f \\u2007\\u200d\\u034f \\u2007\\u034f \\u2007\\u200d\\u034f \\u2007\\u034f \\u2007\\u200d\\u034f \\u2007\\u034f \\u2007\\u200d\\u034f \\u2007\\u034f \\u2007\\u200d\\u034f \\u2007\\u034f \\u2007\\u200d\\u034f \\u2007\\u034f \\u2007\\u200d\\u034f \\u2007\\u034f \\u2007\\u200d\\u034f \\u2007\\u034f \\u2007\\u200d\\u034f \\u2007\\u034f \\u2007\\u200d\\u034f \\u2007\\u034f \\u2007\\u200d\\u034f \\u2007\\u034f \\u2007\\u200d\\u034f \\u2007\\u034f \\u2007\\u200d\\u034f \\u2007\\u034f \\u2007\\u200d\\u034f \\u2007\\u034f \\u2007\\u200d\\u034f \\u2007\\u034f \\u2007\\u200d\\u034f \\u2007\\u034f \\u2007\\u200d\\u034f \\u2007\\u034f \\u2007\\u200d\\u034f \\u2007\\u034f \\u2007\\u200d\\u034f \\u2007\\u034f \\u2007\\u200d\\u034f \\u2007\\u034f \\u2007\\u200d\\u034f \\u2007\\u034f \\u2007\\u200d\\u034f \\u2007\\u034f \\u2007\\u200d\\u034f \\u2007\\u034f \\u2007\\u200d\\u034f \\u2007\\u034f \\u2007\\u200d\\u034f \\u2007\\u034f \\u2007\\u200d\\u034f \\u2007\\u034f \\u2007\\u200d\\u034f \\u2007\\u034f \\u2007\\u200d\\u034f \\u2007\\u034f \\u2007\\u200d\\u034f \\u2007\\u034f \\u2007\\u200d\\u034f \\u2007\\u034f \\u2007\\u200d\\u034f \\u2007\\u034f \\u2007\\u200d\\u034f \\u2007\\u034f \\u2007\\u200d\\u034f \\u2007\\u034f  \\r\\n\\u00ad  \\r\\n\\u00ad \\u00ad \\u00ad \\u00ad \\u00ad \\u00ad \\u00ad \\u00ad \\u00ad \\u00ad \\u00ad \\u00ad \\u00ad \\u00ad \\u00ad \\u00ad \\u00ad \\u00ad \\u00ad \\u00ad \\u00ad \\u00ad \\u00ad \\u00ad \\u00ad \\u00ad \\u00ad \\u00ad \\u00ad \\u00ad \\u00ad \\u00ad \\u00ad \\u00ad \\u00ad \\u00ad \\u00ad  \\r\\n\\u00ad \\u00ad \\u00ad \\u00ad \\u00ad \\u00ad \\u00ad \\u00ad \\u00ad \\u00ad \\u00ad \\u00ad \\u00ad \\u00ad \\u00ad \\u00ad \\u00ad \\u00ad \\u00ad \\u00ad \\u00ad \\u00ad \\u00ad \\u00ad \\u00ad \\u00ad \\u00ad \\u00ad \\u00ad \\u00ad \\u00ad \\u00ad \\u00ad \\u00ad \\u00ad \\u00ad \\u00ad \\u00ad  \\r\\n\\u00ad \\u00ad \\u00ad \\u00ad \\u00ad \\u00ad \\u00ad \\u00ad \\u00ad \\u00ad \\u00ad \\u00ad \\u00ad \\u00ad \\u00ad \\u00ad \\u00ad \\u00ad \\u00ad \\u00ad \\u00ad \\u00ad \\u00ad \\u00ad \\u00ad \\u00ad \\u00ad \\u00ad \\u00ad \\u00ad \\u00ad \\u00ad \\u00ad \\u00ad \\u00ad \\u00ad \\u00ad \\u00ad  \\r\\n\\u00ad \\u00ad \\u00ad \\u00ad \\u00ad \\u00ad \\u00ad \\u00ad \\u00ad \\u00ad \\u00ad \\u00ad \\u00ad \\u00ad \\u00ad \\u00ad \\u00ad \\u00ad \\u00ad \\u00ad \\u00ad \\u00ad \\u00ad \\u00ad \\u00ad \\u00ad \\u00ad \\u00ad \\u00ad \\u00ad \\u00ad \\u00ad \\u00ad \\u00ad \\u00ad \\u00ad \\u00ad \\u00ad  \\r\\n\\u00ad \\u00ad \\u00ad \\u00ad \\u00ad \\u00ad \\u00ad \\u00ad \\u00ad \\u00ad \\u00ad \\u00ad \\u00ad \\u00ad \\u00ad \\u00ad \\u00ad \\u00ad \\u00ad \\u00ad \\u00ad \\u00ad \\u00ad \\u00ad \\u00ad \\u00ad \\u00ad \\u00ad \\u00ad \\u00ad \\u00ad \\u00ad \\u00ad \\u00ad \\u00ad \\u00ad \\u00ad \\u00ad  \\r\\n\\u00ad \\u00ad \\u00ad \\u00ad \\u00ad \\u00ad \\u00ad \\u00ad \\u00ad \\u00ad \\u00ad \\u00ad \\u00ad \\u00ad \\u00ad \\u00ad \\u00ad \\u00ad \\u00ad \\u00ad \\u00ad \\u00ad \\u00ad \\u00ad \\u00ad \\u00ad \\u00ad \\u00ad \\u00ad \\u00ad \\u00ad \\u00ad \\u00ad \\u00ad \\u00ad \\u00ad \\u00ad \\u00ad  \\r\\n\\u00ad \\u00ad \\u00ad \\u00ad \\u00ad \\u00ad \\u00ad \\u00ad \\u00ad \\u00ad \\u00ad \\u00ad \\u00ad \\u00ad \\u00ad \\u00ad \\u00ad \\u00ad \\u00ad \\u00ad \\u00ad \\u00ad\\r\\n\\r\\nHello,\\r\\n\\r\\nA few days ago, we invited you to take part in our survey about developer  \\r\\nexperience with Google Cloud. We would love to hear from you about what  \\r\\nservices you are using, whether you are satisfied with the available tools  \\r\\nand how to improve the developer experience with Google Cloud in general.\\r\\n\\r\\nWe prepared a survey to get your feedback. It should take about 15 minutes.\\r\\n\\r\\nTake the  \\r\\nsurvey<https://notifications.google.com/g/p/ANiao5rf8sN5y6QEfLFEZSv-16HvUveJa9yx96dpjbIqSkxflwqzpITrUssc_XlxJ7chhKdbSlkHE8Xy4i4Hp34fTuZFWSmRTaI51IYROTaTDzv-0KIs9nhIro3pcxDxyvqBG3i-JgWx3a0SdvYmRqV2q9UulLFLQfrYS8zEW4BVNIa6FtdNx5I-ebWpiVabwlverY2-xwasljO1pdY6fTw_6jJIvvmc8BnaaQwNcp9uMm9HTqU3MFGU0HGOS-Dk7eLUsGPF45FD-xq5o2a_LlRmDrfXSIvVqmg>\\r\\n\\r\\nThank you for your time.\\r\\n\\r\\nSee you in the cloud,\\r\\n\\r\\nThe Google Cloud Developer Experience team\\r\\n\\r\\n\\u00a9 2024 Google LLC 1600 Amphitheatre Parkway, Mountain View, CA 94043\\r\\n\\r\\nThis email was sent to dazzlingdatadude@gmail.com because you indicated  \\r\\nthat you are willing to provide feedback about Google Cloud. If you don't  \\r\\nwant to receive such emails in the future, please unsubscribe  \\r\\nhere<https://myaccount.google.com/communication-preferences/unsubscribe/gt/ANiao5ouFFQNU03OfEqOA6cixLTehgHtvJCMSyZ5fFdOEtg8V69_kIBgdVaNT-HLNVOCBZZ6MHY7MYmE06IgUH33_2TAmmGtAJKMZpvk_fSwSl-Acq0-BRyF7nFVomptQv53Uh9xzOgmPiM_zm-498wC3QP8qKnBXfbUChcLq2pU_EQFQxR7XeGDkTITWT1nQyWkBfvPFldNkpKHuOOHJe5a8Fb2vjpXXc2ZUZ3g9Qm387JL8EHhym7Jp627w0BrTMe8ht1CYJOqPYGCzwWxK2_9aFVQzPt0lwGjGiN1DGJ9b-RgnI4?utm_source=gm&utm_medium=email&auto=true>.  \\r\\nYou can also change your preferences on your account's profile page by  \\r\\nlogging in at  \\r\\nconsole.cloud.google.com<https://notifications.google.com/g/p/ANiao5oBPgi_Xr1wXpQXV_kbclnIENHENe1_tjzkvzvSfnaNL8wG6MfBC9PTNJI73LOW6azxKg28eBsFh1CzYLaO3ZIIqzUVL24ameiGERCImrWaFO5mrlkdKIi8QKxe571sxR9EtGL3qxdzibOHFMZ_90lBIseKD-85LUOfbF5CneBkroNT17DnenSA11UvVfBJnfcSFksOeHY-EIANrPvErQ1YA0ys1kCSKNcs6gtZZy4wBlAaHw>\\r\\n\"}\n",
      "Topic: emails-topic-new, Key: 193264ea802c7dc7, Value: {\"id\": \"193264ea802c7dc7\", \"snippet\": \"Let out your inner child with the hottest trend of today: stickers \\u034f \\u200c \\ufeff \\u034f \\u200c \\ufeff \\u034f \\u200c \\ufeff \\u034f \\u200c \\ufeff \\u034f \\u200c \\ufeff \\u034f \\u200c \\ufeff \\u034f \\u200c \\ufeff \\u034f \\u200c \\ufeff \\u034f \\u200c \\ufeff \\u034f \\u200c \\ufeff \\u034f \\u200c \\ufeff \\u034f \\u200c \\ufeff \\u034f \\u200c \\ufeff \\u034f \\u200c \\ufeff \\u034f \\u200c \\ufeff \\u034f \\u200c \\ufeff \\u034f \\u200c \\ufeff \\u034f \\u200c \\ufeff \\u034f \\u200c \\ufeff \\u034f \\u200c \\ufeff \\u034f \\u200c \\ufeff \\u034f \\u200c \\ufeff \\u034f\", \"from\": \"Motion Array <Team@newsletter.motionarray.com>\", \"subject\": \"Avdhoot, keep your videos on trend with sticker graphics\", \"date\": \"Wed, 13 Nov 2024 16:15:07 +0000\", \"body\": \"Let out your inner child with the hottest trend of today:\\r\\nstickers    \\r\\n( http://clicks.artlist.io/f/a/QWfWaaG9KIo9YYjlLrOz6Q~~/AAAHagA~/RgRpF1WLP0SpaHR0cHM6Ly9tb3Rpb25hcnJheS5jb20vZ3JhcGhpY3MvMTItaG9sb2dyYXBoaWMtc3RpY2tlcnMtdGVtcGxhdGVzLTE1OTEzOTIvP3V0bV9zb3VyY2U9TUFfTmV3c2xldHRlcl9mdF9hbGwmdXRtX21lZGl1bT1ncmFwaGljc18xMzExMjQmdXRtX2NhbXBhaWduPU1haW4mbGlkPW8zMGtoZzY1bWJkOFcFc3BjZXVCCmczi9A0Z6p8DchSGmRhenpsaW5nZGF0YWR1ZGVAZ21haWwuY29tWAQAAAG9 )\\r\\n  \\r\\n( http://clicks.artlist.io/f/a/9xcxgyAgrZaZvu-0AwRNcw~~/AAAHagA~/RgRpF1WLP0TIaHR0cHM6Ly9tb3Rpb25hcnJheS5jb20vc3RvY2stbW90aW9uLWdyYXBoaWNzL3BhY2stb2YtNDUtY29sbGFnZS1jYXJ0b29uLXN0aWNrZXJzLW9uLWFscGhhLTI2NzYyOTkvP3V0bV9zb3VyY2U9TUFfTmV3c2xldHRlcl9mdF9hbGwmdXRtX21lZGl1bT1tb3Rpb25fZ3JhcGhpY3NfMTMxMTI0JnV0bV9jYW1wYWlnbj1NYWluJmxpZD10cXQzdWJkZWRrYnJXBXNwY2V1QgpnM4vQNGeqfA3IUhpkYXp6bGluZ2RhdGFkdWRlQGdtYWlsLmNvbVgEAAABvQ~~ )\\r\\n   \\r\\n( http://clicks.artlist.io/f/a/B4UggGXVgRuiU1_t4GGukA~~/AAAHagA~/RgRpF1WLP0TIaHR0cHM6Ly9tb3Rpb25hcnJheS5jb20vc3RvY2stbW90aW9uLWdyYXBoaWNzL3BhY2stb2YtNDUtY29sbGFnZS1jYXJ0b29uLXN0aWNrZXJzLW9uLWFscGhhLTI2NzYyOTkvP3V0bV9zb3VyY2U9TUFfTmV3c2xldHRlcl9mdF9hbGwmdXRtX21lZGl1bT1tb3Rpb25fZ3JhcGhpY3NfMTMxMTI0JnV0bV9jYW1wYWlnbj1NYWluJmxpZD0zNmp1cWF0YmE3MHNXBXNwY2V1QgpnM4vQNGeqfA3IUhpkYXp6bGluZ2RhdGFkdWRlQGdtYWlsLmNvbVgEAAABvQ~~ )\\r\\n   \\r\\n( http://clicks.artlist.io/f/a/TNrxerVnNng5Kj2BrqyHmg~~/AAAHagA~/RgRpF1WLP0S_aHR0cHM6Ly9tb3Rpb25hcnJheS5jb20vYWZ0ZXItZWZmZWN0cy10ZW1wbGF0ZXMvcGxhc3RpY2luZS1kcmVhbXMtdHlwZS1zdGlja2Vycy1pbnRyby0xNTk5MTI3Lz91dG1fc291cmNlPU1BX05ld3NsZXR0ZXJfZnRfYWxsJnV0bV9tZWRpdW09YWVfdGVtcGxhdGVfMTMxMTI0JnV0bV9jYW1wYWlnbj1NYWluJmxpZD0xOWpsM3RlNm91d2ZXBXNwY2V1QgpnM4vQNGeqfA3IUhpkYXp6bGluZ2RhdGFkdWRlQGdtYWlsLmNvbVgEAAABvQ~~ )\\r\\n  \\r\\n( http://clicks.artlist.io/f/a/0FhES-WTxWB0C9uoLjh3vw~~/AAAHagA~/RgRpF1WLP0SdaHR0cHM6Ly9tb3Rpb25hcnJheS5jb20vZ3JhcGhpY3MvMTYtZmFzdC1mb29kLXN0aWNrZXJzLTI4NjY2NzcvP3V0bV9zb3VyY2U9TUFfTmV3c2xldHRlcl9mdF9hbGwmdXRtX21lZGl1bT1ncmFwaGljc18xMzExMjQmdXRtX2NhbXBhaWduPU1haW4mbGlkPXJnZjRsODJydDdmY1cFc3BjZXVCCmczi9A0Z6p8DchSGmRhenpsaW5nZGF0YWR1ZGVAZ21haWwuY29tWAQAAAG9 )\\r\\n  \\r\\n( http://clicks.artlist.io/f/a/6zCbT8A28Tx3es-OAV7YMQ~~/AAAHagA~/RgRpF1WLP0R9aHR0cHM6Ly9tb3Rpb25hcnJheS5jb20vcHJpY2luZy8_dXRtX3NvdXJjZT1NQV9OZXdzbGV0dGVyX2Z0X2FsbCZ1dG1fbWVkaXVtPXByaWNpbmdfMTMxMTI0JnV0bV9jYW1wYWlnbj1NYWluJmxpZD1rY21lMng2MHZlMGpXBXNwY2V1QgpnM4vQNGeqfA3IUhpkYXp6bGluZ2RhdGFkdWRlQGdtYWlsLmNvbVgEAAABvQ~~ )\\r\\n     ( http://clicks.artlist.io/f/a/Ilvc2V5Lo3IyjOrWpRJfBg~~/AAAHagA~/RgRpF1WLP0Q4aHR0cHM6Ly93d3cueW91dHViZS5jb20vY2hhbm5lbC9VQ1F5b0tmVUx0SmFIcVN4QjgwRWZ3NHdXBXNwY2V1QgpnM4vQNGeqfA3IUhpkYXp6bGluZ2RhdGFkdWRlQGdtYWlsLmNvbVgEAAABvQ~~ )   ( http://clicks.artlist.io/f/a/BwYgyjz-wdC8Kiq9UbRaJQ~~/AAAHagA~/RgRpF1WLP0QmaHR0cHM6Ly93d3cuaW5zdGFncmFtLmNvbS9tb3Rpb25hcnJheS9XBXNwY2V1QgpnM4vQNGeqfA3IUhpkYXp6bGluZ2RhdGFkdWRlQGdtYWlsLmNvbVgEAAABvQ~~ )  \\r\\n( http://clicks.artlist.io/f/a/3OOUEmbAExDg--06dy4gwg~~/AAAHagA~/RgRpF1WLP0QfaHR0cHM6Ly90aWt0b2suY29tL0Btb3Rpb25hcnJheVcFc3BjZXVCCmczi9A0Z6p8DchSGmRhenpsaW5nZGF0YWR1ZGVAZ21haWwuY29tWAQAAAG9 )  \\r\\n( http://clicks.artlist.io/f/a/rU2PjV-Wv7KkOZHFmmHAVw~~/AAAHagA~/RgRpF1WLP0QkaHR0cHM6Ly93d3cuZmFjZWJvb2suY29tL21vdGlvbmFycmF5VwVzcGNldUIKZzOL0DRnqnwNyFIaZGF6emxpbmdkYXRhZHVkZUBnbWFpbC5jb21YBAAAAb0~ )  \\r\\n( http://clicks.artlist.io/f/a/vqBpRERJDwiZFBt2bsYp2w~~/AAAHagA~/RgRpF1WLP0QfaHR0cHM6Ly90d2l0dGVyLmNvbS9Nb3Rpb25BcnJheVcFc3BjZXVCCmczi9A0Z6p8DchSGmRhenpsaW5nZGF0YWR1ZGVAZ21haWwuY29tWAQAAAG9 )  This email was sent by Motion\\r\\nArray. Unsubscribe ( http://clicks.artlist.io/f/a/TvWuI8-F6cWtgNnLFkEl9A~~/AAAHagA~/RgRpF1WLP4TLAWh0dHBzOi8vMDEuZW1haWxpbmJvdW5kcHJvY2Vzc2luZy5ldS9lbmNfdXNlci91bnN1YnNjcmliZT9kPSUyNDElMjRLOW1FZFZqOFhVTFhsQm15cUVLbkVBJTNEJTNEJTI0U09sVXlYT2tKWGc4NTI2OEdUeDMzTzdsNWVCUkZtJTJCTUcyYm14JTJCZXpZSEM3MXNhZzZPMGwxTEIwcTFwWCUwQWRWWEd2bzNtZ0p0WXpXMiUyRmJDdDBHamZCYnNyblZVZlRHMGdsb3F1TDJSVSUyRjhrd0Z2YWV0SGxMNGgybkklMEF3cFpFUFUlMkZyVCUyRmlFd1g5JTJGJTJGekx0Z0clMkZ3Y0xLNURXaFNydXFPTlF3Z0RINERFZXZGdFVLc2ZmcmxSWlJsJTBBYzJldXJZWWdDcElaMzBMUlRlOG9JOG9IQUNMSHhWWWx2V1NmUkZtRHhyYk9ndWNqNm1RUHVFQXolMkY3bWUlMEFpREdOMXluVDFFc1hYU0RIUWhqMnZVZmR6RTJ2QU1mMHN1ZW81OTN1NGJqc0VrV3dGZmQzeXVMa1o1alIlMEFWTjd1Tlg4JTJGT2R3OHUxM1R3aEVGJjE9MVcFc3BjZXVCCmczi9A0Z6p8DchSGmRhenpsaW5nZGF0YWR1ZGVAZ21haWwuY29tWAQAAAG9 ) Blog \\r\\n( http://clicks.artlist.io/f/a/UUbumERzL0bnOgzFl6qi2Q~~/AAAHagA~/RgRpF1WLP0QeaHR0cHM6Ly9tb3Rpb25hcnJheS5jb20vbGVhcm4vVwVzcGNldUIKZzOL0DRnqnwNyFIaZGF6emxpbmdkYXRhZHVkZUBnbWFpbC5jb21YBAAAAb0~ ) Help Center \\r\\n( http://clicks.artlist.io/f/a/VaiW3F7AIwxkDEBa29k-eA~~/AAAHagA~/RgRpF1WLP0QdaHR0cHM6Ly9oZWxwLm1vdGlvbmFycmF5LmNvbS9XBXNwY2V1QgpnM4vQNGeqfA3IUhpkYXp6bGluZ2RhdGFkdWRlQGdtYWlsLmNvbVgEAAABvQ~~ )\"}\n",
      "Topic: emails-topic-new, Key: new-key, Value: value-new\n",
      "Topic: emails-topic-new, Key: 193797c2e332c7f3, Value: {\"id\": \"193797c2e332c7f3\", \"snippet\": \"Save this Black Friday with 10% off the Everything plan \\u034f \\u200c \\ufeff \\u034f \\u200c \\ufeff \\u034f \\u200c \\ufeff \\u034f \\u200c \\ufeff \\u034f \\u200c \\ufeff \\u034f \\u200c \\ufeff \\u034f \\u200c \\ufeff \\u034f \\u200c \\ufeff \\u034f \\u200c \\ufeff \\u034f \\u200c \\ufeff \\u034f \\u200c \\ufeff \\u034f \\u200c \\ufeff \\u034f \\u200c \\ufeff \\u034f \\u200c \\ufeff \\u034f \\u200c \\ufeff \\u034f \\u200c \\ufeff \\u034f \\u200c \\ufeff \\u034f \\u200c \\ufeff \\u034f \\u200c \\ufeff \\u034f \\u200c \\ufeff \\u034f \\u200c \\ufeff \\u034f \\u200c \\ufeff \\u034f \\u200c \\ufeff \\u034f \\u200c \\ufeff \\u034f\", \"from\": \"Motion Array <Team@newsletter.motionarray.com>\", \"subject\": \"Avdhoot, LIMITED TIME ONLY! The best Black Friday deal is inside\", \"date\": \"Fri, 29 Nov 2024 19:53:18 +0000\", \"body\": \"Save this Black Friday with 10% off the Everything plan    \\r\\n( http://clicks.artlist.io/f/a/tvgFmOaAwFEFx1xZ2WXbng~~/AAAHagA~/RgRpLKCuP0R-aHR0cHM6Ly9tb3Rpb25hcnJheS5jb20vcHJpY2luZy8_dXRtX3NvdXJjZT1NQV9OZXdzbGV0dGVyX2Z0JnV0bV9tZWRpdW09aG9saWRheV9zYWxlXzI5MTEyNCZ1dG1fY2FtcGFpZ249TWFpbiZsaWQ9ejduMG9yMjdlc2ZvVwVzcGNldUIKZ0SuG0pnxoY8MVIaZGF6emxpbmdkYXRhZHVkZUBnbWFpbC5jb21YBAAAAb0~ )\\r\\n   \\r\\n( http://clicks.artlist.io/f/a/3hB5fA1qhgx_Y9CkgNaD4Q~~/AAAHagA~/RgRpLKCuP0R-aHR0cHM6Ly9tb3Rpb25hcnJheS5jb20vcHJpY2luZy8_dXRtX3NvdXJjZT1NQV9OZXdzbGV0dGVyX2Z0JnV0bV9tZWRpdW09aG9saWRheV9zYWxlXzI5MTEyNCZ1dG1fY2FtcGFpZ249TWFpbiZsaWQ9bjk2aWw3dHc4b2E3VwVzcGNldUIKZ0SuG0pnxoY8MVIaZGF6emxpbmdkYXRhZHVkZUBnbWFpbC5jb21YBAAAAb0~ )\\r\\n     ( http://clicks.artlist.io/f/a/9Qf0NxJqOyKW-JKY6HLA2g~~/AAAHagA~/RgRpLKCuP0Q4aHR0cHM6Ly93d3cueW91dHViZS5jb20vY2hhbm5lbC9VQ1F5b0tmVUx0SmFIcVN4QjgwRWZ3NHdXBXNwY2V1QgpnRK4bSmfGhjwxUhpkYXp6bGluZ2RhdGFkdWRlQGdtYWlsLmNvbVgEAAABvQ~~ )   ( http://clicks.artlist.io/f/a/osIgowie_Uc5y_1t2LMh7w~~/AAAHagA~/RgRpLKCuP0QmaHR0cHM6Ly93d3cuaW5zdGFncmFtLmNvbS9tb3Rpb25hcnJheS9XBXNwY2V1QgpnRK4bSmfGhjwxUhpkYXp6bGluZ2RhdGFkdWRlQGdtYWlsLmNvbVgEAAABvQ~~ )  \\r\\n( http://clicks.artlist.io/f/a/oUceqJulx_QMNM1wqXT1QA~~/AAAHagA~/RgRpLKCuP0QfaHR0cHM6Ly90aWt0b2suY29tL0Btb3Rpb25hcnJheVcFc3BjZXVCCmdErhtKZ8aGPDFSGmRhenpsaW5nZGF0YWR1ZGVAZ21haWwuY29tWAQAAAG9 )  \\r\\n( http://clicks.artlist.io/f/a/8tCf5DqYOq3UK0bIIyLHbA~~/AAAHagA~/RgRpLKCuP0QkaHR0cHM6Ly93d3cuZmFjZWJvb2suY29tL21vdGlvbmFycmF5VwVzcGNldUIKZ0SuG0pnxoY8MVIaZGF6emxpbmdkYXRhZHVkZUBnbWFpbC5jb21YBAAAAb0~ )  \\r\\n( http://clicks.artlist.io/f/a/ZPGzqri-KmJBrMUwJwa7tA~~/AAAHagA~/RgRpLKCuP0QfaHR0cHM6Ly90d2l0dGVyLmNvbS9Nb3Rpb25BcnJheVcFc3BjZXVCCmdErhtKZ8aGPDFSGmRhenpsaW5nZGF0YWR1ZGVAZ21haWwuY29tWAQAAAG9 )  This email was sent by Motion\\r\\nArray. Unsubscribe ( http://clicks.artlist.io/f/a/QRbh_tHphR3i_h71jWV_Cw~~/AAAHagA~/RgRpLKCuP4TPAWh0dHBzOi8vMDEuZW1haWxpbmJvdW5kcHJvY2Vzc2luZy5ldS9lbmNfdXNlci91bnN1YnNjcmliZT9kPSUyNDElMjQ5JTJCRUVoQkJiVXZxTkQxak5ZWWtKRGclM0QlM0QlMjRkV3Jwa3l5SURRZzhIV2FQRjhBREtNQk9XdDBnS2EyUWV0OHF4cFc5SXd6Sk83WEFqRXdraVhuT2FnTEslMEFrcVZLM1AlMkZnNFRwRXlCbEFzTVdwWSUyQkprcEMlMkZ2RnVrNFQlMkI0Q3Z4dldTVzBIbVdXQiUyRk5RY1pDbUxQdE4xJTBBJTJGT05hVVclMkJNMkNBSGJIWkZYMjRvT2tZUnptTmdWN0ExSDVSRjl2JTJCeU9tNm5teEM4ZlFIS0xyUDZEQU5VJTBBN3ZDak1kaWlhdWdza0NFN3NnWFJ3MnlWWG1QVjNQVjl1Nks2MFFPbEtLa2V3bmp5YSUyRkdVV3NXYnhnc3clMEFHbkdyWHBlTWhRTTdBTUNzZVdnQ0NON01vTkdNQm9LUDR5d3czTU9BdVlIWGpEbUQyNW5qMGlQJTJCJTJGTnU5JTBBblE2V2FZJTJCdmkwRnZYbEhra012aiYxPTFXBXNwY2V1QgpnRK4bSmfGhjwxUhpkYXp6bGluZ2RhdGFkdWRlQGdtYWlsLmNvbVgEAAABvQ~~ ) Blog \\r\\n( http://clicks.artlist.io/f/a/-hvi6poUioHAwbXu3c1Klg~~/AAAHagA~/RgRpLKCuP0QeaHR0cHM6Ly9tb3Rpb25hcnJheS5jb20vbGVhcm4vVwVzcGNldUIKZ0SuG0pnxoY8MVIaZGF6emxpbmdkYXRhZHVkZUBnbWFpbC5jb21YBAAAAb0~ ) Help Center \\r\\n( http://clicks.artlist.io/f/a/yGh0o0oqoLNjLSQIhwL6_w~~/AAAHagA~/RgRpLKCuP0QdaHR0cHM6Ly9oZWxwLm1vdGlvbmFycmF5LmNvbS9XBXNwY2V1QgpnRK4bSmfGhjwxUhpkYXp6bGluZ2RhdGFkdWRlQGdtYWlsLmNvbVgEAAABvQ~~ )\"}\n",
      "Topic: emails-topic-new, Key: 193452b2a2c9eb12, Value: {\"id\": \"193452b2a2c9eb12\", \"snippet\": \"LIMITED TIME ONLY! The Holiday Sale is on now \\u2014 get 10% off today \\u034f \\u200c \\ufeff \\u034f \\u200c \\ufeff \\u034f \\u200c \\ufeff \\u034f \\u200c \\ufeff \\u034f \\u200c \\ufeff \\u034f \\u200c \\ufeff \\u034f \\u200c \\ufeff \\u034f \\u200c \\ufeff \\u034f \\u200c \\ufeff \\u034f \\u200c \\ufeff \\u034f \\u200c \\ufeff \\u034f \\u200c \\ufeff \\u034f \\u200c \\ufeff \\u034f \\u200c \\ufeff \\u034f \\u200c \\ufeff \\u034f \\u200c \\ufeff \\u034f \\u200c \\ufeff \\u034f \\u200c \\ufeff \\u034f \\u200c \\ufeff \\u034f \\u200c \\ufeff \\u034f \\u200c \\ufeff \\u034f \\u200c \\ufeff \\u034f \\u200c\", \"from\": \"Motion Array <Team@newsletter.motionarray.com>\", \"subject\": \"Avdhoot, get 10% off the Everything plan with the Holiday Sale\", \"date\": \"Tue, 19 Nov 2024 16:03:15 +0000\", \"body\": \"LIMITED TIME ONLY! The Holiday Sale is on now \\u2014 get 10% off\\ntoday    \\n( http://clicks.artlist.io/f/a/uEzXMxxfuzDi8OghCnOOQQ~~/AAAHagA~/RgRpHzvDP0SCaHR0cHM6Ly9tb3Rpb25hcnJheS5jb20vcHJpY2luZy8_dXRtX3NvdXJjZT1NQV9OZXdzbGV0dGVyX2Z0X2FsbCZ1dG1fbWVkaXVtPWhvbGlkYXlfc2FsZV8xOTExMjQmdXRtX2NhbXBhaWduPU1haW4mbGlkPWd3NjYwZG5ndmpvY1cFc3BjZXVCCmczw7Y8Z6qaTLtSGmRhenpsaW5nZGF0YWR1ZGVAZ21haWwuY29tWAQAAAG9 )\\n   \\n( http://clicks.artlist.io/f/a/j1UT6zq5HScRTkr7kqsjmQ~~/AAAHagA~/RgRpHzvDP0SCaHR0cHM6Ly9tb3Rpb25hcnJheS5jb20vcHJpY2luZy8_dXRtX3NvdXJjZT1NQV9OZXdzbGV0dGVyX2Z0X2FsbCZ1dG1fbWVkaXVtPWhvbGlkYXlfc2FsZV8xOTExMjQmdXRtX2NhbXBhaWduPU1haW4mbGlkPW8yeTZiaXFuOWhsOFcFc3BjZXVCCmczw7Y8Z6qaTLtSGmRhenpsaW5nZGF0YWR1ZGVAZ21haWwuY29tWAQAAAG9 )\\n     ( http://clicks.artlist.io/f/a/gSxAE2UDGIfZWo3vskEQMA~~/AAAHagA~/RgRpHzvDP0Q4aHR0cHM6Ly93d3cueW91dHViZS5jb20vY2hhbm5lbC9VQ1F5b0tmVUx0SmFIcVN4QjgwRWZ3NHdXBXNwY2V1QgpnM8O2PGeqmky7UhpkYXp6bGluZ2RhdGFkdWRlQGdtYWlsLmNvbVgEAAABvQ~~ )   ( http://clicks.artlist.io/f/a/7KDjVJ1xW_nj_pXM8h2BNg~~/AAAHagA~/RgRpHzvDP0QmaHR0cHM6Ly93d3cuaW5zdGFncmFtLmNvbS9tb3Rpb25hcnJheS9XBXNwY2V1QgpnM8O2PGeqmky7UhpkYXp6bGluZ2RhdGFkdWRlQGdtYWlsLmNvbVgEAAABvQ~~ )  \\n( http://clicks.artlist.io/f/a/CRazM6DkCTtT4MVl8XGwPA~~/AAAHagA~/RgRpHzvDP0QfaHR0cHM6Ly90aWt0b2suY29tL0Btb3Rpb25hcnJheVcFc3BjZXVCCmczw7Y8Z6qaTLtSGmRhenpsaW5nZGF0YWR1ZGVAZ21haWwuY29tWAQAAAG9 )  \\n( http://clicks.artlist.io/f/a/U37atUedt8dnZvx6X8m0Qw~~/AAAHagA~/RgRpHzvDP0QkaHR0cHM6Ly93d3cuZmFjZWJvb2suY29tL21vdGlvbmFycmF5VwVzcGNldUIKZzPDtjxnqppMu1IaZGF6emxpbmdkYXRhZHVkZUBnbWFpbC5jb21YBAAAAb0~ )  \\n( http://clicks.artlist.io/f/a/D9XQGDGGolpCw4t_R9HJYA~~/AAAHagA~/RgRpHzvDP0QfaHR0cHM6Ly90d2l0dGVyLmNvbS9Nb3Rpb25BcnJheVcFc3BjZXVCCmczw7Y8Z6qaTLtSGmRhenpsaW5nZGF0YWR1ZGVAZ21haWwuY29tWAQAAAG9 )  This email was sent by Motion\\nArray. Unsubscribe ( http://clicks.artlist.io/f/a/crrA3BA9BkIOWnfUnWm4nA~~/AAAHagA~/RgRpHzvDP4TRAWh0dHBzOi8vMDEuZW1haWxpbmJvdW5kcHJvY2Vzc2luZy5ldS9lbmNfdXNlci91bnN1YnNjcmliZT9kPSUyNDElMjR0YVhwSHJMU24xYldxbFl3eHJHRFJ3JTNEJTNEJTI0ekEwVDhmTzdYSlhqT1JDVEFnNmVzR05yeGVKd3IlMkZja2s0JTJCcHJlRFp3TmRZJTJCSDZFMmV6QnJuJTJCdVlJalElMEFJWUZ4TUp5RFUwVHlEeWwzc3ZTV0k1SDFpcFZjTWRaSFZBZXV0Z09mMjhEYmIxVkQyc0I0b3JpSWt3V24lMEFaTWolMkZiS3ljQzYydWI4U1poRThlQ0hYZ0dFbEdWJTJCTmNHdlkzTVBNMmt3ZE1aSDdvRiUyQmRXak5XTSUyQjBjdCUwQURwemVBM3JHMXJlQ0dyJTJGVnZUREhhS1BwcEJ6ZGUlMkJtU2ElMkJuRnNVUXNnJTJCSmdxb0cyVHJvbDlZcFhWdDZTJTBBOUglMkZBTDRyRXVJMTFBUFVwSU1UJTJCZ3pxUWhlRXI4ZlA3YzlaTjJ2dUxISEFrWW1qUU1zMHhZYVVvcWFPVSUwQTQ4cWNrbFhzNWw1TGtEc1AwS3BCJjE9MVcFc3BjZXVCCmczw7Y8Z6qaTLtSGmRhenpsaW5nZGF0YWR1ZGVAZ21haWwuY29tWAQAAAG9 ) Blog \\n( http://clicks.artlist.io/f/a/jKu5WIV8ZJl2a7xb84qEoA~~/AAAHagA~/RgRpHzvDP0QeaHR0cHM6Ly9tb3Rpb25hcnJheS5jb20vbGVhcm4vVwVzcGNldUIKZzPDtjxnqppMu1IaZGF6emxpbmdkYXRhZHVkZUBnbWFpbC5jb21YBAAAAb0~ ) Help Center \\n( http://clicks.artlist.io/f/a/CTsFG9GNxifwF2KckyYL7g~~/AAAHagA~/RgRpHzvDP0QdaHR0cHM6Ly9oZWxwLm1vdGlvbmFycmF5LmNvbS9XBXNwY2V1QgpnM8O2PGeqmky7UhpkYXp6bGluZ2RhdGFkdWRlQGdtYWlsLmNvbVgEAAABvQ~~ )\"}\n",
      "Topic: emails-topic-new, Key: 1934065977d94950, Value: {\"id\": \"1934065977d94950\", \"snippet\": \"We&#39;re updating the Google Cloud Third-Party Subprocessors list. MY CONSOLE Hello Avdhoot, We are writing to let you know about the following updates to the Third-Party Subprocessors we engage for\", \"from\": \"Google Cloud <CloudPlatform-noreply@google.com>\", \"subject\": \"[Update] Changes to the Google Cloud Third-Party Subprocessors list\", \"date\": \"Mon, 18 Nov 2024 09:50:19 -0800\", \"body\": \"Hello Avdhoot,\\r\\n\\r\\nWe are writing to let you know about the following updates to the  \\r\\nThird-Party Subprocessors we engage for Google Cloud:\\r\\n\\r\\n    - We are adding LXT AI Romania S.R.L for the Speech to Text Service.\\r\\n\\r\\nNo action is required on your part.\\r\\n\\r\\nYou can find information about the tasks our Subprocessors perform on our  \\r\\nGoogle Cloud Platform Subprocessors list[1].\\r\\n\\r\\nThanks for choosing Google Cloud.\\r\\n\\r\\n\\u2013The Google Cloud Team\\r\\n\\r\\n[1] https://cloud.google.com/terms/subprocessors\\r\\n\\r\\n\\u00a9 2024 Google LLC 1600 Amphitheatre Parkway, Mountain View, CA 94043\\r\\n\\r\\nYou have received this mandatory service announcement to update you about  \\r\\nimportant changes to Google Cloud Platform or your account.\\r\\n\"}\n",
      "Topic: emails-topic-new, Key: 19321e38a8778d9c, Value: {\"id\": \"19321e38a8778d9c\", \"snippet\": \"Hello, A few days ago, we invited you to take part in a survey about Google Cloud Platform (GCP) products. We still want to hear your thoughts in order to help us prioritize areas that impact your\", \"from\": \"The GCP User Experience Research and Product Team <2024-cloud-user-sentiment-survey@google.com>\", \"subject\": \"Final Reminder: Participate in a Google Cloud Platform user survey\", \"date\": \"Tue, 12 Nov 2024 11:39:40 -0800\", \"body\": \"Hello,\\r\\n\\r\\nA few days ago, we invited you to take part in a survey about Google Cloud  \\r\\nPlatform (GCP) products. We still want to hear your thoughts in order to  \\r\\nhelp us prioritize areas that impact your experience. As a thank you for  \\r\\nyour time, you'll be eligible to receive a $25 gift card upon completion of  \\r\\nthe survey and providing your name and email address (given your profile  \\r\\nmeets our research requirements). If you\\u2019re interested, please click on the  \\r\\nblue button below to begin.\\r\\n\\r\\nStart Survey  \\r\\n<https://notifications.google.com/g/p/ANiao5poAcNLcBtCdCsP-hvq2d481jr-NqkWx5NpNKmIdOInVP0lSG2HDYvok9F2NXuxU_kFXD5X_VAt4jOAdCmJBLfVyPsVlyismvKpD9NxO1_oNpCD0SK2Hr8fTSarrxE14ixKaFweAqk8oUoChBkLC0YyMXVf3Evy2fO_IWLoisiKbD0BVcEzqydLsUNOLYTZb0I1qhh7y_xwCzOEdKD7uvYcOAAnqONH4F_oFQB8epE2GCaNkPjTJ1uJieTgfS2hf9KebkK-gYBmviRpxsMoJBhqVtDT_TKlzp-UGv7wx2jz6tYQABMgF7KVHSHAr10_K7ptJgwd-QddFcJQUp7zTJ733wDWCbEE7jqV25dKIlbLog>\\r\\n\\r\\nThank you for your time,\\r\\n\\r\\nThe GCP User Experience Research and Product Team\\r\\n\\r\\n(c) 2024 Google LLC 1600 Amphitheatre Parkway, Mountain View, CA 94043\\r\\n\\r\\nThis email was sent to dazzlingdatadude@gmail.com because you indicated  \\r\\nthat you are willing to provide feedback about Google Cloud Platform. If  \\r\\nyou don't want to receive such emails in the future, please unsubscribe  \\r\\nhere  \\r\\n<https://myaccount.google.com/communication-preferences/unsubscribe/gt/ANiao5owv2aJNv40_eNq-kbQuTA_R6QAzFwTsTNubNzMLM-d8YDV2aFED6ZByaBzGbf1yPnXYbk2fP2mhrgJAO4VickIzW3dk6PjhXGzhTrE_gmUVwjvW8mmnNxW5OtyzJ1y2xdSbBLwd61iDqzi450y-rtzI7MSK5CWBi3CB9krYmMlta1EBh6v4BTjfmmZr4BN_I5CEz5UBWYd2xTfYVwU-dj0EGbrImLTZjHvCkUA4Xb4EkdiAMCvuLyAixNvIggSBeFU1wgeU6ZOeZNixYxlJ397SLDXA2yLDM1C_Qn6jnPLOLI?utm_source=gm&utm_medium=email&auto=true>.  \\r\\nYou can also change your preferences on your account's profile page by  \\r\\nlogging in at console.cloud.google.com  \\r\\n<https://notifications.google.com/g/p/ANiao5qrzRm69ailNIixEFFzJJYPWW1nDWyzU1OQm1wjp9R7DM706A0XBbH1LLdxjL1SbtTNdM4hm01k6CYSGXciUT53DXJQgzYNQIYYgHc3lSmUO0NelRWCTheS4ae0ZqqxpJsUnd2_kvVrX8PYBYpoPw4DZn3GnHb9OzfTo4WP4PAfe1jDm6Nsmoep2OTMXNm5URDGZX0TykjClCww4gf0aFZWmQRDIP9I-Sb1-jJ4bijjF_JRudlDN3pRtvo>\\r\\n\"}\n"
     ]
    }
   ],
   "source": [
    "from confluent_kafka import Consumer\n",
    "import logging\n",
    "\n",
    "# Initialize logging\n",
    "logging.basicConfig(level=logging.INFO)\n",
    "logger = logging.getLogger(__name__)\n",
    "\n",
    "# Kafka Consumer Configuration\n",
    "consumer_config = {\n",
    "    \"bootstrap.servers\": \"pkc-619z3.us-east1.gcp.confluent.cloud:9092\",  # Provided bootstrap server\n",
    "    \"security.protocol\": \"SASL_SSL\",\n",
    "    \"sasl.mechanisms\": \"PLAIN\",\n",
    "    \"sasl.username\": \"CFAIVUXPP46AIDVS\",  # Provided API Key\n",
    "    \"sasl.password\": \"s9bSJiQZ961Bmtvhl7is+lrvlpmmDL4LRykchMqwkVHbEFIAoX3X8jMiHAcY4TTA\",  # Provided Secret\n",
    "    \"group.id\": \"email-consumer-group\",  # Consumer group\n",
    "    \"auto.offset.reset\": \"earliest\",  # Start from the earliest message\n",
    "}\n",
    "\n",
    "# Kafka topics to listen to\n",
    "single_topic = \"detection_results_single\"\n",
    "batch_topic = \"detection_results_single_batch\"\n",
    "consume_topic_name = \"emails-topic-new\"\n",
    "def consume_messages():\n",
    "    \"\"\"Consumes messages from Kafka topics.\"\"\"\n",
    "    consumer = Consumer(consumer_config)\n",
    "    consumer.subscribe([consume_topic_name])\n",
    "\n",
    "    print(\"Listening for messages...\")\n",
    "    try:\n",
    "        while True:\n",
    "            msg = consumer.poll(1.0)  # Poll messages every second\n",
    "            if msg is not None and not msg.error():\n",
    "                print(f\"Topic: {msg.topic()}, Key: {msg.key().decode('utf-8')}, Value: {msg.value().decode('utf-8')}\")\n",
    "    except KeyboardInterrupt:\n",
    "        pass\n",
    "    finally:\n",
    "        consumer.close()\n",
    "\n",
    "if __name__ == \"__main__\":\n",
    "    consume_messages()\n"
   ]
  },
  {
   "cell_type": "code",
   "execution_count": null,
   "metadata": {},
   "outputs": [],
   "source": []
  },
  {
   "cell_type": "code",
   "execution_count": 1,
   "metadata": {},
   "outputs": [
    {
     "name": "stderr",
     "output_type": "stream",
     "text": [
      "/Users/awwdudee/.pyenv/versions/3.12.7/lib/python3.12/site-packages/tqdm/auto.py:21: TqdmWarning: IProgress not found. Please update jupyter and ipywidgets. See https://ipywidgets.readthedocs.io/en/stable/user_install.html\n",
      "  from .autonotebook import tqdm as notebook_tqdm\n"
     ]
    }
   ],
   "source": [
    "from transformers import pipeline\n",
    "import re\n",
    "from urllib.parse import urlparse\n",
    "\n",
    "# Load the model for phishing detection using Hugging Face's pipeline\n",
    "model_name = \"ealvaradob/bert-finetuned-phishing\"\n",
    "phishing_detector = pipeline('text-classification', model=model_name)\n",
    "\n",
    "def is_suspicious_sender(sender_email):\n",
    "    suspicious_domains = [\"example.com\", \"phishing.com\", \"fraudulentdomain.com\"]  # Replace with a real list\n",
    "    domain = sender_email.split('@')[-1]\n",
    "    return domain in suspicious_domains\n",
    "\n",
    "def is_suspicious_url(text):\n",
    "# Extract all URLs from the text\n",
    "    urls = re.findall(r'(https?://\\S+)', text)\n",
    "    if not urls:\n",
    "        return False  # No URLs found, so no suspicion\n",
    "\n",
    "    # Check each URL using the phishing detection model\n",
    "    for url in urls:\n",
    "        # Check if the URL is suspicious using the phishing detection model\n",
    "        prediction = phishing_detector(url)\n",
    "        label = prediction[0]['label']\n",
    "        \n",
    "        # If model detects it as phishing, flag it as suspicious\n",
    "        if label == \"LABEL_1\":  # Adjust if needed based on the model's output\n",
    "            return True\n",
    "    return False\n",
    "\n",
    "def analyze_email(email_body, sender_email):\n",
    "    # Check if the sender email is suspicious\n",
    "    sender_suspicious = is_suspicious_sender(sender_email)\n",
    "    \n",
    "    # Check if any URL in the email body is suspicious\n",
    "    url_suspicious = is_suspicious_url(email_body)\n",
    "    \n",
    "    # Combine the results\n",
    "    if sender_suspicious or url_suspicious:\n",
    "        return \"Suspicious\"\n",
    "    else:\n",
    "        return \"Safe\"\n",
    "\n",
    "email_body = \"\"\"\n",
    "Dear user, click here to verify your account: https://suspicious-url.com/verify.\n",
    "If you don't verify, your account will be suspended.\n",
    "\"\"\"\n",
    "\n",
    "sender_email = \"phishing@gmail.com\"\n",
    "\n",
    "# Analyze the email\n",
    "result = analyze_email(email_body, sender_email)\n",
    "\n",
    "print(result)  # Will output \"Suspicious\" if the email contains suspicious URLs or sender\n"
   ]
  },
  {
   "cell_type": "code",
   "execution_count": 14,
   "metadata": {},
   "outputs": [
    {
     "name": "stderr",
     "output_type": "stream",
     "text": [
      "2024-12-01 17:20:07,623 - ERROR - Error loading model ealvaradob/bert-finetuned-phishing: Impossible to guess which tokenizer to use. Please provide a PreTrainedTokenizer class or a path/identifier to a pretrained tokenizer.\n"
     ]
    },
    {
     "ename": "Exception",
     "evalue": "Impossible to guess which tokenizer to use. Please provide a PreTrainedTokenizer class or a path/identifier to a pretrained tokenizer.",
     "output_type": "error",
     "traceback": [
      "\u001b[0;31m---------------------------------------------------------------------------\u001b[0m",
      "\u001b[0;31mException\u001b[0m                                 Traceback (most recent call last)",
      "Cell \u001b[0;32mIn[14], line 20\u001b[0m\n\u001b[1;32m     18\u001b[0m     model \u001b[38;5;241m=\u001b[39m AutoModelForSequenceClassification\u001b[38;5;241m.\u001b[39mfrom_pretrained(MODEL_NAME)\n\u001b[1;32m     19\u001b[0m     \u001b[38;5;66;03m# Initialize the Hugging Face pipeline\u001b[39;00m\n\u001b[0;32m---> 20\u001b[0m     phishing_detector \u001b[38;5;241m=\u001b[39m \u001b[43mpipeline\u001b[49m\u001b[43m(\u001b[49m\u001b[38;5;124;43m'\u001b[39;49m\u001b[38;5;124;43mtext-classification\u001b[39;49m\u001b[38;5;124;43m'\u001b[39;49m\u001b[43m,\u001b[49m\u001b[43m \u001b[49m\u001b[43mmodel\u001b[49m\u001b[38;5;241;43m=\u001b[39;49m\u001b[43mmodel\u001b[49m\u001b[43m)\u001b[49m\n\u001b[1;32m     21\u001b[0m     logger\u001b[38;5;241m.\u001b[39minfo(\u001b[38;5;124mf\u001b[39m\u001b[38;5;124m\"\u001b[39m\u001b[38;5;124mModel \u001b[39m\u001b[38;5;132;01m{\u001b[39;00mMODEL_NAME\u001b[38;5;132;01m}\u001b[39;00m\u001b[38;5;124m loaded successfully.\u001b[39m\u001b[38;5;124m\"\u001b[39m)\n\u001b[1;32m     22\u001b[0m \u001b[38;5;28;01mexcept\u001b[39;00m \u001b[38;5;167;01mException\u001b[39;00m \u001b[38;5;28;01mas\u001b[39;00m e:\n",
      "File \u001b[0;32m~/.pyenv/versions/3.12.7/lib/python3.12/site-packages/transformers/pipelines/__init__.py:1016\u001b[0m, in \u001b[0;36mpipeline\u001b[0;34m(task, model, config, tokenizer, feature_extractor, image_processor, processor, framework, revision, use_fast, token, device, device_map, torch_dtype, trust_remote_code, model_kwargs, pipeline_class, **kwargs)\u001b[0m\n\u001b[1;32m   1013\u001b[0m         tokenizer \u001b[38;5;241m=\u001b[39m config\n\u001b[1;32m   1014\u001b[0m     \u001b[38;5;28;01melse\u001b[39;00m:\n\u001b[1;32m   1015\u001b[0m         \u001b[38;5;66;03m# Impossible to guess what is the right tokenizer here\u001b[39;00m\n\u001b[0;32m-> 1016\u001b[0m         \u001b[38;5;28;01mraise\u001b[39;00m \u001b[38;5;167;01mException\u001b[39;00m(\n\u001b[1;32m   1017\u001b[0m             \u001b[38;5;124m\"\u001b[39m\u001b[38;5;124mImpossible to guess which tokenizer to use. \u001b[39m\u001b[38;5;124m\"\u001b[39m\n\u001b[1;32m   1018\u001b[0m             \u001b[38;5;124m\"\u001b[39m\u001b[38;5;124mPlease provide a PreTrainedTokenizer class or a path/identifier to a pretrained tokenizer.\u001b[39m\u001b[38;5;124m\"\u001b[39m\n\u001b[1;32m   1019\u001b[0m         )\n\u001b[1;32m   1021\u001b[0m \u001b[38;5;66;03m# Instantiate tokenizer if needed\u001b[39;00m\n\u001b[1;32m   1022\u001b[0m \u001b[38;5;28;01mif\u001b[39;00m \u001b[38;5;28misinstance\u001b[39m(tokenizer, (\u001b[38;5;28mstr\u001b[39m, \u001b[38;5;28mtuple\u001b[39m)):\n",
      "\u001b[0;31mException\u001b[0m: Impossible to guess which tokenizer to use. Please provide a PreTrainedTokenizer class or a path/identifier to a pretrained tokenizer."
     ]
    }
   ],
   "source": [
    "# prediction_model.py\n",
    "\n",
    "from transformers import AutoTokenizer, AutoModelForSequenceClassification, pipeline\n",
    "import logging\n",
    "\n",
    "# Set up logging for better error reporting\n",
    "logger = logging.getLogger('model_inference')\n",
    "logger.setLevel(logging.INFO)\n",
    "handler = logging.StreamHandler()\n",
    "formatter = logging.Formatter('%(asctime)s - %(levelname)s - %(message)s')\n",
    "handler.setFormatter(formatter)\n",
    "logger.addHandler(handler)\n",
    "\n",
    "# Load the model and tokenizer\n",
    "MODEL_NAME = \"ealvaradob/bert-finetuned-phishing\"\n",
    "try:\n",
    "    tokenizer = AutoTokenizer.from_pretrained(MODEL_NAME)\n",
    "    model = AutoModelForSequenceClassification.from_pretrained(MODEL_NAME)\n",
    "    # Initialize the Hugging Face pipeline\n",
    "    phishing_detector = pipeline('text-classification', model=model)\n",
    "    logger.info(f\"Model {MODEL_NAME} loaded successfully.\")\n",
    "except Exception as e:\n",
    "    logger.error(f\"Error loading model {MODEL_NAME}: {str(e)}\")\n",
    "    raise\n",
    "\n",
    "def predict_phishing(text):\n",
    "    \"\"\"Predict if the email is phishing or not.\"\"\"\n",
    "    try:\n",
    "        prediction = phishing_detector(text)\n",
    "        label = prediction[0]['label']  # 'LABEL_0' for Not Phishing, 'LABEL_1' for Phishing\n",
    "        probability = prediction[0]['score']\n",
    "        return label, probability\n",
    "    except Exception as e:\n",
    "        logger.error(f\"Error during prediction: {str(e)}\")\n",
    "        return \"Error\", 0.0\n"
   ]
  },
  {
   "cell_type": "code",
   "execution_count": 15,
   "metadata": {},
   "outputs": [
    {
     "name": "stdout",
     "output_type": "stream",
     "text": [
      "SequenceClassifierOutput(loss=None, logits=tensor([[-4.2507,  4.7214]], grad_fn=<AddmmBackward0>), hidden_states=None, attentions=None)\n"
     ]
    }
   ],
   "source": [
    "# Test model loading outside of pipeline\n",
    "from transformers import AutoModelForSequenceClassification, AutoTokenizer\n",
    "\n",
    "model_name = \"ealvaradob/bert-finetuned-phishing\"\n",
    "tokenizer = AutoTokenizer.from_pretrained(model_name)\n",
    "model = AutoModelForSequenceClassification.from_pretrained(model_name)\n",
    "\n",
    "input_text = \"Test email content\"\n",
    "inputs = tokenizer(input_text, return_tensors=\"pt\", truncation=True, padding=True)\n",
    "outputs = model(**inputs)\n",
    "print(outputs)\n"
   ]
  },
  {
   "cell_type": "code",
   "execution_count": 16,
   "metadata": {},
   "outputs": [
    {
     "name": "stdout",
     "output_type": "stream",
     "text": [
      "Prediction: Phishing\n",
      "Probabilities: [5.149469e-06 9.999949e-01]\n"
     ]
    }
   ],
   "source": [
    "import torch\n",
    "from transformers import AutoTokenizer, AutoModelForSequenceClassification, pipeline\n",
    "import torch.nn.functional as F\n",
    "\n",
    "# Load the model and tokenizer\n",
    "MODEL_NAME = \"ealvaradob/bert-finetuned-phishing\"\n",
    "tokenizer = AutoTokenizer.from_pretrained(MODEL_NAME)\n",
    "model = AutoModelForSequenceClassification.from_pretrained(MODEL_NAME)\n",
    "\n",
    "def predict_phishing(text):\n",
    "    \"\"\"Predict if the email is phishing or not.\"\"\"\n",
    "    inputs = tokenizer(text, return_tensors=\"pt\", truncation=True, padding=True)\n",
    "    outputs = model(**inputs)\n",
    "    \n",
    "    # Apply softmax to the logits to get probabilities\n",
    "    probabilities = F.softmax(outputs.logits, dim=-1).detach().numpy()[0]\n",
    "\n",
    "    # Get the predicted label (index of the highest probability)\n",
    "    predicted_label_index = torch.argmax(outputs.logits, dim=-1).item()\n",
    "\n",
    "    # Convert the label index to the corresponding class name\n",
    "    predicted_label = \"Phishing\" if predicted_label_index == 1 else \"Not Phishing\"\n",
    "    \n",
    "    return predicted_label, probabilities\n",
    "\n",
    "# Example usage:\n",
    "email_text = \"Please click this link to verify your account: http://malicious-url.com\"\n",
    "predicted_label, probabilities = predict_phishing(email_text)\n",
    "\n",
    "print(f\"Prediction: {predicted_label}\")\n",
    "print(f\"Probabilities: {probabilities}\")\n"
   ]
  },
  {
   "cell_type": "code",
   "execution_count": null,
   "metadata": {},
   "outputs": [],
   "source": [
    "\n",
    " # Additional analysis (using BERT model or other analysis)\n",
    "            result[\"suspicious_sender\"] = is_suspicious_sender(email['from'])\n",
    "            result[\"suspicious_content\"] = contains_suspicious_content(email['body'])\n",
    "            result[\"suspicious_url\"] = contains_suspicious_url(email['body'])\n"
   ]
  }
 ],
 "metadata": {
  "kernelspec": {
   "display_name": "Python 3",
   "language": "python",
   "name": "python3"
  },
  "language_info": {
   "codemirror_mode": {
    "name": "ipython",
    "version": 3
   },
   "file_extension": ".py",
   "mimetype": "text/x-python",
   "name": "python",
   "nbconvert_exporter": "python",
   "pygments_lexer": "ipython3",
   "version": "3.12.7"
  }
 },
 "nbformat": 4,
 "nbformat_minor": 2
}
